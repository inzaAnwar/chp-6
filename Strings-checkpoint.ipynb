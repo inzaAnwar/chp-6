{
 "cells": [
  {
   "cell_type": "code",
   "execution_count": 3,
   "id": "9a06208c",
   "metadata": {},
   "outputs": [
    {
     "name": "stdout",
     "output_type": "stream",
     "text": [
      "inza  hobi\n"
     ]
    }
   ],
   "source": [
    "print(\"inza \"+\" hobi\")"
   ]
  },
  {
   "cell_type": "code",
   "execution_count": 5,
   "id": "4ebdd379",
   "metadata": {},
   "outputs": [
    {
     "name": "stdout",
     "output_type": "stream",
     "text": [
      "inzaHobi\n"
     ]
    }
   ],
   "source": [
    "a=\"inza\"\n",
    "b=\"Hobi\"\n",
    "c=a+b\n",
    "print(c)"
   ]
  },
  {
   "cell_type": "code",
   "execution_count": 10,
   "id": "8a39153a",
   "metadata": {},
   "outputs": [
    {
     "name": "stdout",
     "output_type": "stream",
     "text": [
      "123\n",
      "124\n"
     ]
    }
   ],
   "source": [
    "a='123'\n",
    "print(a)\n",
    "b=int(a)\n",
    "type(b)\n",
    "c=b+1\n",
    "print(c)"
   ]
  },
  {
   "cell_type": "code",
   "execution_count": 13,
   "id": "28dcc68a",
   "metadata": {},
   "outputs": [
    {
     "name": "stdout",
     "output_type": "stream",
     "text": [
      "Enter a pleaseapple\n",
      "apple\n"
     ]
    },
    {
     "data": {
      "text/plain": [
       "str"
      ]
     },
     "execution_count": 13,
     "metadata": {},
     "output_type": "execute_result"
    }
   ],
   "source": [
    "i=input(\"Enter a please\")\n",
    "print(i)\n",
    "type(i)\n"
   ]
  },
  {
   "cell_type": "code",
   "execution_count": 14,
   "id": "3c2d028a",
   "metadata": {},
   "outputs": [
    {
     "name": "stdout",
     "output_type": "stream",
     "text": [
      "enter num123\n",
      "123\n",
      "128\n"
     ]
    }
   ],
   "source": [
    "i = input(\"enter num\")\n",
    "print(i)\n",
    "type(i)\n",
    "a=int(i)\n",
    "b=a+5\n",
    "print(b)\n"
   ]
  },
  {
   "cell_type": "code",
   "execution_count": 16,
   "id": "004ff0ce",
   "metadata": {},
   "outputs": [
    {
     "name": "stdout",
     "output_type": "stream",
     "text": [
      "n\n"
     ]
    }
   ],
   "source": [
    "fruit=\"banana Milk\"\n",
    "letter=fruit[4]\n",
    "print(letter)"
   ]
  },
  {
   "cell_type": "code",
   "execution_count": 19,
   "id": "c89d6dc1",
   "metadata": {},
   "outputs": [
    {
     "name": "stdout",
     "output_type": "stream",
     "text": [
      "n\n",
      "M\n"
     ]
    }
   ],
   "source": [
    "fruit=\"banana Milk\"\n",
    "letter=fruit[4]\n",
    "print(letter)\n",
    "x=10\n",
    "w=fruit[x-3]\n",
    "print(w)"
   ]
  },
  {
   "cell_type": "code",
   "execution_count": 21,
   "id": "7231d110",
   "metadata": {},
   "outputs": [
    {
     "name": "stdout",
     "output_type": "stream",
     "text": [
      "6\n",
      "9\n"
     ]
    }
   ],
   "source": [
    "fruit=\"banana\"\n",
    "print(len(fruit))\n",
    "a=\"inza Hobi\"\n",
    "print(len(a))"
   ]
  },
  {
   "cell_type": "code",
   "execution_count": 24,
   "id": "7cd40a40",
   "metadata": {},
   "outputs": [
    {
     "name": "stdout",
     "output_type": "stream",
     "text": [
      "0 b\n",
      "1 a\n",
      "2 n\n",
      "3 a\n",
      "4 n\n",
      "5 a\n"
     ]
    }
   ],
   "source": [
    "fruit = 'banana'\n",
    "index = 0\n",
    "while index < len(fruit): \n",
    "    letter = fruit[index]\n",
    "    print(index, letter)\n",
    "    index = index + 1"
   ]
  },
  {
   "cell_type": "code",
   "execution_count": 28,
   "id": "00ecd0de",
   "metadata": {},
   "outputs": [
    {
     "name": "stdout",
     "output_type": "stream",
     "text": [
      "j 0\n",
      "u 1\n",
      "n 2\n",
      "g 3\n",
      "  4\n",
      "h 5\n",
      "o 6\n",
      "s 7\n",
      "e 8\n",
      "o 9\n",
      "k 10\n"
     ]
    }
   ],
   "source": [
    "a = \"jung hoseok\"\n",
    "index = 0\n",
    "while index<len(a):\n",
    "    letter=a[index]\n",
    "    print(letter, index)\n",
    "    index=index+1"
   ]
  },
  {
   "cell_type": "code",
   "execution_count": 29,
   "id": "98edb5f4",
   "metadata": {},
   "outputs": [
    {
     "name": "stdout",
     "output_type": "stream",
     "text": [
      "b\n",
      "a\n",
      "n\n",
      "a\n",
      "n\n",
      "a\n"
     ]
    }
   ],
   "source": [
    "a=\"banana\"\n",
    "for i in a:\n",
    "    print(i)"
   ]
  },
  {
   "cell_type": "code",
   "execution_count": 30,
   "id": "3f4352db",
   "metadata": {},
   "outputs": [
    {
     "name": "stdout",
     "output_type": "stream",
     "text": [
      "j\n",
      "u\n",
      "n\n",
      "g\n",
      " \n",
      "h\n",
      "o\n",
      "s\n",
      "e\n",
      "o\n",
      "k\n"
     ]
    }
   ],
   "source": [
    "a=\"jung hoseok\"\n",
    "for i in a:\n",
    "    print(i)"
   ]
  },
  {
   "cell_type": "code",
   "execution_count": 32,
   "id": "bdd83d3c",
   "metadata": {},
   "outputs": [
    {
     "name": "stdout",
     "output_type": "stream",
     "text": [
      "b\n",
      "a\n",
      "n\n",
      "a\n",
      "n\n",
      "a\n",
      "j\n",
      "u\n",
      "n\n",
      "g\n",
      " \n",
      "h\n",
      "o\n",
      "s\n",
      "e\n",
      "o\n",
      "k\n"
     ]
    }
   ],
   "source": [
    "a=\"banana\"\n",
    "for i in a:\n",
    "    print(i)\n",
    "    \n",
    "b=\"jung hoseok\"\n",
    "i = 0\n",
    "while i<len(b):\n",
    "    letter=b[i]\n",
    "    print(letter)\n",
    "    i = i+1\n"
   ]
  },
  {
   "cell_type": "code",
   "execution_count": 39,
   "id": "295f8e81",
   "metadata": {},
   "outputs": [
    {
     "name": "stdout",
     "output_type": "stream",
     "text": [
      "2\n"
     ]
    }
   ],
   "source": [
    "a=\"banana\"\n",
    "count=0\n",
    "for i in a:\n",
    "    if i=='n':\n",
    "        count=count+1\n",
    "print(count)"
   ]
  },
  {
   "cell_type": "code",
   "execution_count": 38,
   "id": "b1cd7015",
   "metadata": {},
   "outputs": [
    {
     "name": "stdout",
     "output_type": "stream",
     "text": [
      "3\n"
     ]
    }
   ],
   "source": [
    "word = 'banana'\n",
    "count = 0\n",
    "for letter in word :\n",
    "    if letter == 'a' :\n",
    "        count = count + 1\n",
    "print(count)"
   ]
  },
  {
   "cell_type": "code",
   "execution_count": 41,
   "id": "18002f97",
   "metadata": {},
   "outputs": [
    {
     "name": "stdout",
     "output_type": "stream",
     "text": [
      "jungho\n"
     ]
    }
   ],
   "source": [
    "a=\"junghoseok\"\n",
    "s=(a[0:6])\n",
    "print(s)"
   ]
  },
  {
   "cell_type": "code",
   "execution_count": 42,
   "id": "0b12927f",
   "metadata": {},
   "outputs": [
    {
     "name": "stdout",
     "output_type": "stream",
     "text": [
      "s\n"
     ]
    }
   ],
   "source": [
    "a=\"junghoseok\"\n",
    "s=(a[6:7])\n",
    "print(s)"
   ]
  },
  {
   "cell_type": "code",
   "execution_count": 43,
   "id": "d050c4d3",
   "metadata": {},
   "outputs": [
    {
     "name": "stdout",
     "output_type": "stream",
     "text": [
      "junghoseok\n"
     ]
    }
   ],
   "source": [
    "a=\"junghoseok\"\n",
    "s=(a[0:10])\n",
    "print(s)"
   ]
  },
  {
   "cell_type": "code",
   "execution_count": 45,
   "id": "9fccdcda",
   "metadata": {},
   "outputs": [
    {
     "name": "stdout",
     "output_type": "stream",
     "text": [
      "inz\n"
     ]
    }
   ],
   "source": [
    "a=\"inza\"\n",
    "s=(a[ :3])\n",
    "print(s)"
   ]
  },
  {
   "cell_type": "code",
   "execution_count": 46,
   "id": "2de81312",
   "metadata": {},
   "outputs": [
    {
     "name": "stdout",
     "output_type": "stream",
     "text": [
      "a\n"
     ]
    }
   ],
   "source": [
    "a=\"inza\"\n",
    "s=(a[3: ])\n",
    "print(s)"
   ]
  },
  {
   "cell_type": "code",
   "execution_count": 49,
   "id": "7e38ede2",
   "metadata": {},
   "outputs": [
    {
     "name": "stdout",
     "output_type": "stream",
     "text": [
      "inza hello welcome today is our first session\n"
     ]
    }
   ],
   "source": [
    "a=\"inza\"\n",
    "print(a+\" hello welcome\"+' '\"today is our first session\")"
   ]
  },
  {
   "cell_type": "code",
   "execution_count": 50,
   "id": "fb95fb88",
   "metadata": {},
   "outputs": [
    {
     "data": {
      "text/plain": [
       "True"
      ]
     },
     "execution_count": 50,
     "metadata": {},
     "output_type": "execute_result"
    }
   ],
   "source": [
    "a=\"inza\"\n",
    "'a' in a"
   ]
  },
  {
   "cell_type": "code",
   "execution_count": 54,
   "id": "8ffc615d",
   "metadata": {},
   "outputs": [
    {
     "name": "stdout",
     "output_type": "stream",
     "text": [
      "your word is heelo welcome\n"
     ]
    }
   ],
   "source": [
    "a='heelo'\n",
    "if a=='inza':\n",
    "    print(\"inza\")\n",
    "elif a<'hosek':\n",
    "    print(\"your word is \"+a+\" welcome\")\n",
    "else:\n",
    "    print(\"all right\")"
   ]
  },
  {
   "cell_type": "code",
   "execution_count": 55,
   "id": "a2165f63",
   "metadata": {},
   "outputs": [
    {
     "name": "stdout",
     "output_type": "stream",
     "text": [
      "hello\n"
     ]
    }
   ],
   "source": [
    "a=\"HELLO\"\n",
    "b=a.lower()\n",
    "print(b)"
   ]
  },
  {
   "cell_type": "code",
   "execution_count": 57,
   "id": "6812cf41",
   "metadata": {},
   "outputs": [
    {
     "name": "stdout",
     "output_type": "stream",
     "text": [
      "HELLO\n"
     ]
    },
    {
     "data": {
      "text/plain": [
       "['__add__',\n",
       " '__class__',\n",
       " '__contains__',\n",
       " '__delattr__',\n",
       " '__dir__',\n",
       " '__doc__',\n",
       " '__eq__',\n",
       " '__format__',\n",
       " '__ge__',\n",
       " '__getattribute__',\n",
       " '__getitem__',\n",
       " '__getnewargs__',\n",
       " '__gt__',\n",
       " '__hash__',\n",
       " '__init__',\n",
       " '__init_subclass__',\n",
       " '__iter__',\n",
       " '__le__',\n",
       " '__len__',\n",
       " '__lt__',\n",
       " '__mod__',\n",
       " '__mul__',\n",
       " '__ne__',\n",
       " '__new__',\n",
       " '__reduce__',\n",
       " '__reduce_ex__',\n",
       " '__repr__',\n",
       " '__rmod__',\n",
       " '__rmul__',\n",
       " '__setattr__',\n",
       " '__sizeof__',\n",
       " '__str__',\n",
       " '__subclasshook__',\n",
       " 'capitalize',\n",
       " 'casefold',\n",
       " 'center',\n",
       " 'count',\n",
       " 'encode',\n",
       " 'endswith',\n",
       " 'expandtabs',\n",
       " 'find',\n",
       " 'format',\n",
       " 'format_map',\n",
       " 'index',\n",
       " 'isalnum',\n",
       " 'isalpha',\n",
       " 'isascii',\n",
       " 'isdecimal',\n",
       " 'isdigit',\n",
       " 'isidentifier',\n",
       " 'islower',\n",
       " 'isnumeric',\n",
       " 'isprintable',\n",
       " 'isspace',\n",
       " 'istitle',\n",
       " 'isupper',\n",
       " 'join',\n",
       " 'ljust',\n",
       " 'lower',\n",
       " 'lstrip',\n",
       " 'maketrans',\n",
       " 'partition',\n",
       " 'removeprefix',\n",
       " 'removesuffix',\n",
       " 'replace',\n",
       " 'rfind',\n",
       " 'rindex',\n",
       " 'rjust',\n",
       " 'rpartition',\n",
       " 'rsplit',\n",
       " 'rstrip',\n",
       " 'split',\n",
       " 'splitlines',\n",
       " 'startswith',\n",
       " 'strip',\n",
       " 'swapcase',\n",
       " 'title',\n",
       " 'translate',\n",
       " 'upper',\n",
       " 'zfill']"
      ]
     },
     "execution_count": 57,
     "metadata": {},
     "output_type": "execute_result"
    }
   ],
   "source": [
    "a=\"hello\"\n",
    "b=a.upper()\n",
    "print(b)\n",
    "dir(b)"
   ]
  },
  {
   "cell_type": "code",
   "execution_count": 60,
   "id": "49532676",
   "metadata": {},
   "outputs": [
    {
     "name": "stdout",
     "output_type": "stream",
     "text": [
      "2\n"
     ]
    }
   ],
   "source": [
    "fruit = 'banana'\n",
    "v = fruit.find('na')\n",
    "print(v)"
   ]
  },
  {
   "cell_type": "code",
   "execution_count": 63,
   "id": "3b02f70f",
   "metadata": {},
   "outputs": [
    {
     "name": "stdout",
     "output_type": "stream",
     "text": [
      "inzahoseak\n",
      "inzoAnwor\n"
     ]
    }
   ],
   "source": [
    "a=\"inzaAnwar\"\n",
    "b=a.replace(\"Anwar\",\"hoseak\")\n",
    "print(b)\n",
    "b=a.replace(\"a\",\"o\")\n",
    "print(b)"
   ]
  },
  {
   "cell_type": "code",
   "execution_count": 70,
   "id": "c3c93c7e",
   "metadata": {},
   "outputs": [
    {
     "data": {
      "text/plain": [
       "'inza'"
      ]
     },
     "execution_count": 70,
     "metadata": {},
     "output_type": "execute_result"
    }
   ],
   "source": [
    "a=\"   inza\"\n",
    "a.lstrip()\n"
   ]
  },
  {
   "cell_type": "code",
   "execution_count": 71,
   "id": "05b09787",
   "metadata": {},
   "outputs": [
    {
     "data": {
      "text/plain": [
       "'inza'"
      ]
     },
     "execution_count": 71,
     "metadata": {},
     "output_type": "execute_result"
    }
   ],
   "source": [
    "a=\"inza  \"\n",
    "a.rstrip()"
   ]
  },
  {
   "cell_type": "code",
   "execution_count": 76,
   "id": "39fd792b",
   "metadata": {},
   "outputs": [
    {
     "data": {
      "text/plain": [
       "True"
      ]
     },
     "execution_count": 76,
     "metadata": {},
     "output_type": "execute_result"
    }
   ],
   "source": [
    "#prefix\n",
    "a=\"hello inza what are you doing\"\n",
    "a.startswith(\"hello\")\n",
    "a.startswith(\"h\")\n",
    "\n"
   ]
  },
  {
   "cell_type": "code",
   "execution_count": 77,
   "id": "1d7773ed",
   "metadata": {},
   "outputs": [
    {
     "data": {
      "text/plain": [
       "False"
      ]
     },
     "execution_count": 77,
     "metadata": {},
     "output_type": "execute_result"
    }
   ],
   "source": [
    "#prefix\n",
    "a=\"hello inza what are you doing\"\n",
    "a.startswith(\"H\")\n"
   ]
  },
  {
   "cell_type": "code",
   "execution_count": 83,
   "id": "eed6e98e",
   "metadata": {},
   "outputs": [
    {
     "name": "stdout",
     "output_type": "stream",
     "text": [
      "11\n",
      "12\n",
      "\n"
     ]
    }
   ],
   "source": [
    "#parse extracting\n",
    "data=\"inzaHoseok6@   gmail.com\"\n",
    "a=data.find('@')\n",
    "print(a)\n",
    "b=data.find(\" \",a)\n",
    "print(b)\n"
   ]
  },
  {
   "cell_type": "code",
   "execution_count": 85,
   "id": "190e8291",
   "metadata": {},
   "outputs": [
    {
     "name": "stdout",
     "output_type": "stream",
     "text": [
      "21\n",
      "31\n",
      "uct.ac.za\n"
     ]
    }
   ],
   "source": [
    "data = 'From stephen.marquard@uct.ac.za Sat Jan 5 09:14:16 2008'\n",
    "a = data.find('@')\n",
    "print(a)\n",
    "b = data.find(' ',a)\n",
    "print(b)\n",
    "host = data[a+1 : b]\n",
    "print(host)"
   ]
  }
 ],
 "metadata": {
  "kernelspec": {
   "display_name": "Python 3 (ipykernel)",
   "language": "python",
   "name": "python3"
  },
  "language_info": {
   "codemirror_mode": {
    "name": "ipython",
    "version": 3
   },
   "file_extension": ".py",
   "mimetype": "text/x-python",
   "name": "python",
   "nbconvert_exporter": "python",
   "pygments_lexer": "ipython3",
   "version": "3.10.9"
  }
 },
 "nbformat": 4,
 "nbformat_minor": 5
}
